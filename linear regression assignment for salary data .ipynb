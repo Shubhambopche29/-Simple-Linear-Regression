{
 "cells": [
  {
   "cell_type": "code",
   "execution_count": 2,
   "id": "8844e7a2",
   "metadata": {
    "ExecuteTime": {
     "end_time": "2022-12-12T07:32:38.206753Z",
     "start_time": "2022-12-12T07:32:35.210506Z"
    }
   },
   "outputs": [],
   "source": [
    "import pandas as pd \n",
    "import numpy as np\n",
    "import matplotlib.pyplot as plt\n",
    "import seaborn as sns"
   ]
  },
  {
   "cell_type": "code",
   "execution_count": 3,
   "id": "42d8160c",
   "metadata": {
    "ExecuteTime": {
     "end_time": "2022-12-12T07:32:38.237869Z",
     "start_time": "2022-12-12T07:32:38.209614Z"
    }
   },
   "outputs": [],
   "source": [
    "data = pd.read_csv(\"Salary_Data.csv\")"
   ]
  },
  {
   "cell_type": "code",
   "execution_count": 4,
   "id": "90f534de",
   "metadata": {
    "ExecuteTime": {
     "end_time": "2022-12-12T07:32:38.300532Z",
     "start_time": "2022-12-12T07:32:38.241508Z"
    }
   },
   "outputs": [
    {
     "data": {
      "text/html": [
       "<div>\n",
       "<style scoped>\n",
       "    .dataframe tbody tr th:only-of-type {\n",
       "        vertical-align: middle;\n",
       "    }\n",
       "\n",
       "    .dataframe tbody tr th {\n",
       "        vertical-align: top;\n",
       "    }\n",
       "\n",
       "    .dataframe thead th {\n",
       "        text-align: right;\n",
       "    }\n",
       "</style>\n",
       "<table border=\"1\" class=\"dataframe\">\n",
       "  <thead>\n",
       "    <tr style=\"text-align: right;\">\n",
       "      <th></th>\n",
       "      <th>YearsExperience</th>\n",
       "      <th>Salary</th>\n",
       "    </tr>\n",
       "  </thead>\n",
       "  <tbody>\n",
       "    <tr>\n",
       "      <th>count</th>\n",
       "      <td>30.000000</td>\n",
       "      <td>30.000000</td>\n",
       "    </tr>\n",
       "    <tr>\n",
       "      <th>mean</th>\n",
       "      <td>5.313333</td>\n",
       "      <td>76003.000000</td>\n",
       "    </tr>\n",
       "    <tr>\n",
       "      <th>std</th>\n",
       "      <td>2.837888</td>\n",
       "      <td>27414.429785</td>\n",
       "    </tr>\n",
       "    <tr>\n",
       "      <th>min</th>\n",
       "      <td>1.100000</td>\n",
       "      <td>37731.000000</td>\n",
       "    </tr>\n",
       "    <tr>\n",
       "      <th>25%</th>\n",
       "      <td>3.200000</td>\n",
       "      <td>56720.750000</td>\n",
       "    </tr>\n",
       "    <tr>\n",
       "      <th>50%</th>\n",
       "      <td>4.700000</td>\n",
       "      <td>65237.000000</td>\n",
       "    </tr>\n",
       "    <tr>\n",
       "      <th>75%</th>\n",
       "      <td>7.700000</td>\n",
       "      <td>100544.750000</td>\n",
       "    </tr>\n",
       "    <tr>\n",
       "      <th>max</th>\n",
       "      <td>10.500000</td>\n",
       "      <td>122391.000000</td>\n",
       "    </tr>\n",
       "  </tbody>\n",
       "</table>\n",
       "</div>"
      ],
      "text/plain": [
       "       YearsExperience         Salary\n",
       "count        30.000000      30.000000\n",
       "mean          5.313333   76003.000000\n",
       "std           2.837888   27414.429785\n",
       "min           1.100000   37731.000000\n",
       "25%           3.200000   56720.750000\n",
       "50%           4.700000   65237.000000\n",
       "75%           7.700000  100544.750000\n",
       "max          10.500000  122391.000000"
      ]
     },
     "execution_count": 4,
     "metadata": {},
     "output_type": "execute_result"
    }
   ],
   "source": [
    "data.describe()"
   ]
  },
  {
   "cell_type": "code",
   "execution_count": 5,
   "id": "7aa80999",
   "metadata": {
    "ExecuteTime": {
     "end_time": "2022-12-12T07:32:38.332185Z",
     "start_time": "2022-12-12T07:32:38.304174Z"
    }
   },
   "outputs": [
    {
     "name": "stdout",
     "output_type": "stream",
     "text": [
      "<class 'pandas.core.frame.DataFrame'>\n",
      "RangeIndex: 30 entries, 0 to 29\n",
      "Data columns (total 2 columns):\n",
      " #   Column           Non-Null Count  Dtype  \n",
      "---  ------           --------------  -----  \n",
      " 0   YearsExperience  30 non-null     float64\n",
      " 1   Salary           30 non-null     float64\n",
      "dtypes: float64(2)\n",
      "memory usage: 608.0 bytes\n"
     ]
    }
   ],
   "source": [
    "data.info()"
   ]
  },
  {
   "cell_type": "code",
   "execution_count": 18,
   "id": "75fe7111",
   "metadata": {
    "ExecuteTime": {
     "end_time": "2022-12-12T07:35:31.117270Z",
     "start_time": "2022-12-12T07:35:31.103169Z"
    }
   },
   "outputs": [
    {
     "data": {
      "text/plain": [
       "<bound method NDFrame.head of     YearsExperience    Salary\n",
       "0               1.1   39343.0\n",
       "1               1.3   46205.0\n",
       "2               1.5   37731.0\n",
       "3               2.0   43525.0\n",
       "4               2.2   39891.0\n",
       "5               2.9   56642.0\n",
       "6               3.0   60150.0\n",
       "7               3.2   54445.0\n",
       "8               3.2   64445.0\n",
       "9               3.7   57189.0\n",
       "10              3.9   63218.0\n",
       "11              4.0   55794.0\n",
       "12              4.0   56957.0\n",
       "13              4.1   57081.0\n",
       "14              4.5   61111.0\n",
       "15              4.9   67938.0\n",
       "16              5.1   66029.0\n",
       "17              5.3   83088.0\n",
       "18              5.9   81363.0\n",
       "19              6.0   93940.0\n",
       "20              6.8   91738.0\n",
       "21              7.1   98273.0\n",
       "22              7.9  101302.0\n",
       "23              8.2  113812.0\n",
       "24              8.7  109431.0\n",
       "25              9.0  105582.0\n",
       "26              9.5  116969.0\n",
       "27              9.6  112635.0\n",
       "28             10.3  122391.0\n",
       "29             10.5  121872.0>"
      ]
     },
     "execution_count": 18,
     "metadata": {},
     "output_type": "execute_result"
    }
   ],
   "source": [
    "data.head"
   ]
  },
  {
   "cell_type": "code",
   "execution_count": 19,
   "id": "1bcf966f",
   "metadata": {
    "ExecuteTime": {
     "end_time": "2022-12-12T07:35:41.222990Z",
     "start_time": "2022-12-12T07:35:41.199886Z"
    }
   },
   "outputs": [
    {
     "data": {
      "text/plain": [
       "<bound method NDFrame.tail of     YearsExperience    Salary\n",
       "0               1.1   39343.0\n",
       "1               1.3   46205.0\n",
       "2               1.5   37731.0\n",
       "3               2.0   43525.0\n",
       "4               2.2   39891.0\n",
       "5               2.9   56642.0\n",
       "6               3.0   60150.0\n",
       "7               3.2   54445.0\n",
       "8               3.2   64445.0\n",
       "9               3.7   57189.0\n",
       "10              3.9   63218.0\n",
       "11              4.0   55794.0\n",
       "12              4.0   56957.0\n",
       "13              4.1   57081.0\n",
       "14              4.5   61111.0\n",
       "15              4.9   67938.0\n",
       "16              5.1   66029.0\n",
       "17              5.3   83088.0\n",
       "18              5.9   81363.0\n",
       "19              6.0   93940.0\n",
       "20              6.8   91738.0\n",
       "21              7.1   98273.0\n",
       "22              7.9  101302.0\n",
       "23              8.2  113812.0\n",
       "24              8.7  109431.0\n",
       "25              9.0  105582.0\n",
       "26              9.5  116969.0\n",
       "27              9.6  112635.0\n",
       "28             10.3  122391.0\n",
       "29             10.5  121872.0>"
      ]
     },
     "execution_count": 19,
     "metadata": {},
     "output_type": "execute_result"
    }
   ],
   "source": [
    "data.tail"
   ]
  },
  {
   "cell_type": "code",
   "execution_count": 20,
   "id": "8c764047",
   "metadata": {
    "ExecuteTime": {
     "end_time": "2022-12-12T07:36:05.524424Z",
     "start_time": "2022-12-12T07:36:05.460823Z"
    }
   },
   "outputs": [
    {
     "data": {
      "text/html": [
       "<div>\n",
       "<style scoped>\n",
       "    .dataframe tbody tr th:only-of-type {\n",
       "        vertical-align: middle;\n",
       "    }\n",
       "\n",
       "    .dataframe tbody tr th {\n",
       "        vertical-align: top;\n",
       "    }\n",
       "\n",
       "    .dataframe thead th {\n",
       "        text-align: right;\n",
       "    }\n",
       "</style>\n",
       "<table border=\"1\" class=\"dataframe\">\n",
       "  <thead>\n",
       "    <tr style=\"text-align: right;\">\n",
       "      <th></th>\n",
       "      <th>YearsExperience</th>\n",
       "      <th>Salary</th>\n",
       "    </tr>\n",
       "  </thead>\n",
       "  <tbody>\n",
       "    <tr>\n",
       "      <th>0</th>\n",
       "      <td>1.1</td>\n",
       "      <td>39343.0</td>\n",
       "    </tr>\n",
       "    <tr>\n",
       "      <th>1</th>\n",
       "      <td>1.3</td>\n",
       "      <td>46205.0</td>\n",
       "    </tr>\n",
       "    <tr>\n",
       "      <th>2</th>\n",
       "      <td>1.5</td>\n",
       "      <td>37731.0</td>\n",
       "    </tr>\n",
       "    <tr>\n",
       "      <th>3</th>\n",
       "      <td>2.0</td>\n",
       "      <td>43525.0</td>\n",
       "    </tr>\n",
       "    <tr>\n",
       "      <th>4</th>\n",
       "      <td>2.2</td>\n",
       "      <td>39891.0</td>\n",
       "    </tr>\n",
       "    <tr>\n",
       "      <th>5</th>\n",
       "      <td>2.9</td>\n",
       "      <td>56642.0</td>\n",
       "    </tr>\n",
       "    <tr>\n",
       "      <th>6</th>\n",
       "      <td>3.0</td>\n",
       "      <td>60150.0</td>\n",
       "    </tr>\n",
       "    <tr>\n",
       "      <th>7</th>\n",
       "      <td>3.2</td>\n",
       "      <td>54445.0</td>\n",
       "    </tr>\n",
       "    <tr>\n",
       "      <th>8</th>\n",
       "      <td>3.2</td>\n",
       "      <td>64445.0</td>\n",
       "    </tr>\n",
       "    <tr>\n",
       "      <th>9</th>\n",
       "      <td>3.7</td>\n",
       "      <td>57189.0</td>\n",
       "    </tr>\n",
       "  </tbody>\n",
       "</table>\n",
       "</div>"
      ],
      "text/plain": [
       "   YearsExperience   Salary\n",
       "0              1.1  39343.0\n",
       "1              1.3  46205.0\n",
       "2              1.5  37731.0\n",
       "3              2.0  43525.0\n",
       "4              2.2  39891.0\n",
       "5              2.9  56642.0\n",
       "6              3.0  60150.0\n",
       "7              3.2  54445.0\n",
       "8              3.2  64445.0\n",
       "9              3.7  57189.0"
      ]
     },
     "execution_count": 20,
     "metadata": {},
     "output_type": "execute_result"
    }
   ],
   "source": [
    "data.head(10)"
   ]
  },
  {
   "cell_type": "code",
   "execution_count": 17,
   "id": "a46bd9a2",
   "metadata": {
    "ExecuteTime": {
     "end_time": "2022-12-12T07:34:53.265773Z",
     "start_time": "2022-12-12T07:34:53.250540Z"
    }
   },
   "outputs": [
    {
     "data": {
      "text/plain": [
       "(30, 2)"
      ]
     },
     "execution_count": 17,
     "metadata": {},
     "output_type": "execute_result"
    }
   ],
   "source": [
    "data.shape"
   ]
  },
  {
   "cell_type": "code",
   "execution_count": 21,
   "id": "eab92929",
   "metadata": {
    "ExecuteTime": {
     "end_time": "2022-12-12T07:36:41.480335Z",
     "start_time": "2022-12-12T07:36:41.464290Z"
    }
   },
   "outputs": [
    {
     "data": {
      "text/plain": [
       "60"
      ]
     },
     "execution_count": 21,
     "metadata": {},
     "output_type": "execute_result"
    }
   ],
   "source": [
    "data.size"
   ]
  },
  {
   "cell_type": "code",
   "execution_count": 6,
   "id": "4851f1fd",
   "metadata": {
    "ExecuteTime": {
     "end_time": "2022-12-12T07:32:38.583136Z",
     "start_time": "2022-12-12T07:32:38.335317Z"
    }
   },
   "outputs": [
    {
     "data": {
      "image/png": "[encoded data removed]",
      "text/plain": [
       "<Figure size 432x288 with 1 Axes>"
      ]
     },
     "metadata": {
      "needs_background": "light"
     },
     "output_type": "display_data"
    }
   ],
   "source": [
    "plt.boxplot(data.YearsExperience) \n",
    "plt.show() "
   ]
  },
  {
   "cell_type": "code",
   "execution_count": 7,
   "id": "f629a092",
   "metadata": {
    "ExecuteTime": {
     "end_time": "2022-12-12T07:32:38.739635Z",
     "start_time": "2022-12-12T07:32:38.587400Z"
    }
   },
   "outputs": [
    {
     "data": {
      "image/png": "[encoded data removed]",
      "text/plain": [
       "<Figure size 432x288 with 1 Axes>"
      ]
     },
     "metadata": {
      "needs_background": "light"
     },
     "output_type": "display_data"
    }
   ],
   "source": [
    "plt.hist(data.YearsExperience) \n",
    "plt.show() "
   ]
  },
  {
   "cell_type": "code",
   "execution_count": 26,
   "id": "886f3967",
   "metadata": {
    "ExecuteTime": {
     "end_time": "2022-12-12T07:40:11.520470Z",
     "start_time": "2022-12-12T07:40:11.365789Z"
    }
   },
   "outputs": [
    {
     "data": {
      "text/plain": [
       "Text(0.5, 0, 'SATScores')"
      ]
     },
     "execution_count": 26,
     "metadata": {},
     "output_type": "execute_result"
    },
    {
     "data": {
      "image/png": "[encoded data removed]",
      "text/plain": [
       "<Figure size 432x288 with 1 Axes>"
      ]
     },
     "metadata": {
      "needs_background": "light"
     },
     "output_type": "display_data"
    }
   ],
   "source": [
    "plt.xlabel('SATScores')"
   ]
  },
  {
   "cell_type": "code",
   "execution_count": 23,
   "id": "e3df6846",
   "metadata": {
    "ExecuteTime": {
     "end_time": "2022-12-12T07:37:50.878935Z",
     "start_time": "2022-12-12T07:37:50.742493Z"
    }
   },
   "outputs": [
    {
     "data": {
      "text/plain": [
       "Text(0, 0.5, 'frequency')"
      ]
     },
     "execution_count": 23,
     "metadata": {},
     "output_type": "execute_result"
    },
    {
     "data": {
      "image/png": "[encoded data removed]",
      "text/plain": [
       "<Figure size 432x288 with 1 Axes>"
      ]
     },
     "metadata": {
      "needs_background": "light"
     },
     "output_type": "display_data"
    }
   ],
   "source": [
    "plt.ylabel('frequency')"
   ]
  },
  {
   "cell_type": "code",
   "execution_count": 8,
   "id": "ef811d62",
   "metadata": {
    "ExecuteTime": {
     "end_time": "2022-12-12T07:32:38.755380Z",
     "start_time": "2022-12-12T07:32:38.744000Z"
    }
   },
   "outputs": [],
   "source": [
    "import warnings\n",
    "warnings.filterwarnings('ignore')"
   ]
  },
  {
   "cell_type": "code",
   "execution_count": 9,
   "id": "85e26b30",
   "metadata": {
    "ExecuteTime": {
     "end_time": "2022-12-12T07:32:40.083057Z",
     "start_time": "2022-12-12T07:32:38.759979Z"
    }
   },
   "outputs": [
    {
     "data": {
      "image/png": "[encoded data removed]",
      "text/plain": [
       "<Figure size 432x288 with 1 Axes>"
      ]
     },
     "metadata": {
      "needs_background": "light"
     },
     "output_type": "display_data"
    }
   ],
   "source": [
    "sns.distplot(data['YearsExperience']) \n",
    "plt.show() "
   ]
  },
  {
   "cell_type": "code",
   "execution_count": 16,
   "id": "c21b6f08",
   "metadata": {
    "ExecuteTime": {
     "end_time": "2022-12-12T07:34:14.663763Z",
     "start_time": "2022-12-12T07:34:14.525962Z"
    }
   },
   "outputs": [
    {
     "data": {
      "text/plain": [
       "<AxesSubplot:ylabel='Count'>"
      ]
     },
     "execution_count": 16,
     "metadata": {},
     "output_type": "execute_result"
    },
    {
     "data": {
      "image/png": "[encoded data removed]",
      "text/plain": [
       "<Figure size 432x288 with 1 Axes>"
      ]
     },
     "metadata": {
      "needs_background": "light"
     },
     "output_type": "display_data"
    }
   ],
   "source": [
    "sns.histplot(['Accept']) "
   ]
  },
  {
   "cell_type": "code",
   "execution_count": null,
   "id": "152e729c",
   "metadata": {
    "ExecuteTime": {
     "end_time": "2022-12-12T07:32:40.115151Z",
     "start_time": "2022-12-12T07:32:40.115151Z"
    }
   },
   "outputs": [],
   "source": [
    "plt.boxplot(data.Salary) \n",
    "plt.xlabel(\"Salary\") \n",
    "plt.ylabel(\"No of Observations\")\n",
    "plt.title(\"Boxplot of Salary\") \n",
    "plt.show() "
   ]
  },
  {
   "cell_type": "code",
   "execution_count": null,
   "id": "5823f365",
   "metadata": {
    "ExecuteTime": {
     "end_time": "2022-12-12T07:32:40.117198Z",
     "start_time": "2022-12-12T07:32:40.117198Z"
    }
   },
   "outputs": [],
   "source": [
    "plt.hist(data.Salary) \n",
    "plt.xlabel(\"Salary\") \n",
    "plt.ylabel(\"No of Observations\")\n",
    "plt.title(\"Boxplot of Salary\") \n",
    "plt.show() "
   ]
  },
  {
   "cell_type": "code",
   "execution_count": null,
   "id": "1fe1fa51",
   "metadata": {
    "ExecuteTime": {
     "end_time": "2022-12-12T07:32:40.120032Z",
     "start_time": "2022-12-12T07:32:40.120032Z"
    }
   },
   "outputs": [],
   "source": [
    "sns.distplot(data['Salary']) \n",
    "plt.show()"
   ]
  },
  {
   "cell_type": "code",
   "execution_count": null,
   "id": "0a6bed8f",
   "metadata": {
    "ExecuteTime": {
     "end_time": "2022-12-12T07:32:40.121061Z",
     "start_time": "2022-12-12T07:32:40.121061Z"
    }
   },
   "outputs": [],
   "source": [
    "plt.plot(data.YearsExperience,data.Salary,\"rs\")\n",
    "plt.xlabel(\"YearsExperience\")\n",
    "plt.ylabel(\"Salary\")\n",
    "plt.title(\"ScatterPlot\")   \n",
    "plt.plot() "
   ]
  },
  {
   "cell_type": "code",
   "execution_count": null,
   "id": "6dc64ddd",
   "metadata": {
    "ExecuteTime": {
     "end_time": "2022-12-12T07:32:40.122079Z",
     "start_time": "2022-12-12T07:32:40.122079Z"
    }
   },
   "outputs": [],
   "source": [
    "sns.distplot(data['YearsExperience'])"
   ]
  },
  {
   "cell_type": "code",
   "execution_count": null,
   "id": "65b26b26",
   "metadata": {
    "ExecuteTime": {
     "end_time": "2022-12-12T07:32:40.122079Z",
     "start_time": "2022-12-12T07:32:40.122079Z"
    }
   },
   "outputs": [],
   "source": [
    "sns.distplot(data['Salary'])"
   ]
  },
  {
   "cell_type": "code",
   "execution_count": null,
   "id": "81662ba5",
   "metadata": {
    "ExecuteTime": {
     "end_time": "2022-12-12T07:32:40.123123Z",
     "start_time": "2022-12-12T07:32:40.123123Z"
    }
   },
   "outputs": [],
   "source": [
    "import statsmodels.formula.api as smf\n",
    "model1= smf.ols('Salary~np.sqrt(YearsExperience)',data=data).fit()"
   ]
  },
  {
   "cell_type": "code",
   "execution_count": null,
   "id": "624f4505",
   "metadata": {
    "ExecuteTime": {
     "end_time": "2022-12-12T07:32:40.124146Z",
     "start_time": "2022-12-12T07:32:40.124146Z"
    }
   },
   "outputs": [],
   "source": [
    "model1.summary()"
   ]
  },
  {
   "cell_type": "code",
   "execution_count": null,
   "id": "00ae6e81",
   "metadata": {
    "ExecuteTime": {
     "end_time": "2022-12-12T07:32:40.125191Z",
     "start_time": "2022-12-12T07:32:40.125191Z"
    }
   },
   "outputs": [],
   "source": [
    "pred1 = model1.predict(data.YearsExperience)"
   ]
  },
  {
   "cell_type": "code",
   "execution_count": null,
   "id": "e487e2dc",
   "metadata": {
    "ExecuteTime": {
     "end_time": "2022-12-12T07:32:40.129391Z",
     "start_time": "2022-12-12T07:32:40.129391Z"
    }
   },
   "outputs": [],
   "source": [
    "pred1"
   ]
  },
  {
   "cell_type": "code",
   "execution_count": null,
   "id": "63fd4890",
   "metadata": {
    "ExecuteTime": {
     "end_time": "2022-12-12T07:32:40.130470Z",
     "start_time": "2022-12-12T07:32:40.130470Z"
    }
   },
   "outputs": [],
   "source": [
    "model1.resid  "
   ]
  },
  {
   "cell_type": "code",
   "execution_count": null,
   "id": "5c1e7e11",
   "metadata": {
    "ExecuteTime": {
     "end_time": "2022-12-12T07:32:40.131476Z",
     "start_time": "2022-12-12T07:32:40.131476Z"
    }
   },
   "outputs": [],
   "source": [
    "rmse_1 = np.sqrt(np.mean((np.array(data['YearsExperience'])-np.array(pred1))**2))\n",
    "rmse_1 "
   ]
  },
  {
   "cell_type": "code",
   "execution_count": null,
   "id": "6f3a6ad1",
   "metadata": {
    "ExecuteTime": {
     "end_time": "2022-12-12T07:32:40.133758Z",
     "start_time": "2022-12-12T07:32:40.133758Z"
    }
   },
   "outputs": [],
   "source": [
    "plt.scatter(x=data['YearsExperience'],y=data['Salary'],color='green')\n",
    "plt.plot(data['YearsExperience'],pred1,color='black')\n",
    "plt.xlabel('YearsExperience')\n",
    "plt.ylabel('Salary')"
   ]
  },
  {
   "cell_type": "code",
   "execution_count": null,
   "id": "56a0aeb9",
   "metadata": {
    "ExecuteTime": {
     "end_time": "2022-12-12T07:32:40.135760Z",
     "start_time": "2022-12-12T07:32:40.135760Z"
    }
   },
   "outputs": [],
   "source": [
    "model2= smf.ols('Salary~np.log(YearsExperience)',data=data).fit()"
   ]
  },
  {
   "cell_type": "code",
   "execution_count": null,
   "id": "448d838d",
   "metadata": {
    "ExecuteTime": {
     "end_time": "2022-12-12T07:32:40.137759Z",
     "start_time": "2022-12-12T07:32:40.137759Z"
    }
   },
   "outputs": [],
   "source": [
    "model2.summary()"
   ]
  },
  {
   "cell_type": "code",
   "execution_count": null,
   "id": "7fac5efe",
   "metadata": {
    "ExecuteTime": {
     "end_time": "2022-12-12T07:32:40.138759Z",
     "start_time": "2022-12-12T07:32:40.138759Z"
    }
   },
   "outputs": [],
   "source": [
    "pred2 = model2.predict(data.YearsExperience)"
   ]
  },
  {
   "cell_type": "code",
   "execution_count": null,
   "id": "21d7e624",
   "metadata": {
    "ExecuteTime": {
     "end_time": "2022-12-12T07:32:40.139759Z",
     "start_time": "2022-12-12T07:32:40.139759Z"
    }
   },
   "outputs": [],
   "source": [
    "pred2"
   ]
  },
  {
   "cell_type": "code",
   "execution_count": null,
   "id": "2af023bb",
   "metadata": {
    "ExecuteTime": {
     "end_time": "2022-12-12T07:32:40.140760Z",
     "start_time": "2022-12-12T07:32:40.140760Z"
    }
   },
   "outputs": [],
   "source": [
    "model2.resid  "
   ]
  },
  {
   "cell_type": "code",
   "execution_count": null,
   "id": "559a81ba",
   "metadata": {
    "ExecuteTime": {
     "end_time": "2022-12-12T07:32:40.143759Z",
     "start_time": "2022-12-12T07:32:40.143759Z"
    }
   },
   "outputs": [],
   "source": [
    "rmse_log = np.sqrt(np.mean((np.array(data['YearsExperience'])-np.array(pred2))**2))\n",
    "rmse_log"
   ]
  },
  {
   "cell_type": "code",
   "execution_count": null,
   "id": "6c294e32",
   "metadata": {
    "ExecuteTime": {
     "end_time": "2022-12-12T07:32:40.145761Z",
     "start_time": "2022-12-12T07:32:40.145761Z"
    }
   },
   "outputs": [],
   "source": [
    "pred2.corr(data.Salary)"
   ]
  },
  {
   "cell_type": "code",
   "execution_count": null,
   "id": "be58b1c9",
   "metadata": {
    "ExecuteTime": {
     "end_time": "2022-12-12T07:32:40.147166Z",
     "start_time": "2022-12-12T07:32:40.147166Z"
    }
   },
   "outputs": [],
   "source": [
    "plt.scatter(x=data['YearsExperience'],y=data['Salary'],color='purple')\n",
    "plt.plot(data['YearsExperience'],pred2,color='orange')\n",
    "plt.xlabel('YearsExperience')\n",
    "plt.ylabel('Salary') "
   ]
  },
  {
   "cell_type": "code",
   "execution_count": null,
   "id": "b463ba49",
   "metadata": {
    "ExecuteTime": {
     "end_time": "2022-12-12T07:32:40.148555Z",
     "start_time": "2022-12-12T07:32:40.148555Z"
    }
   },
   "outputs": [],
   "source": [
    "model3= smf.ols('Salary~np.cbrt(YearsExperience)',data=data).fit()"
   ]
  },
  {
   "cell_type": "code",
   "execution_count": null,
   "id": "64c7dc00",
   "metadata": {
    "ExecuteTime": {
     "end_time": "2022-12-12T07:32:40.148555Z",
     "start_time": "2022-12-12T07:32:40.148555Z"
    }
   },
   "outputs": [],
   "source": [
    "model3.summary()"
   ]
  },
  {
   "cell_type": "code",
   "execution_count": null,
   "id": "2d8851b6",
   "metadata": {
    "ExecuteTime": {
     "end_time": "2022-12-12T07:32:40.150859Z",
     "start_time": "2022-12-12T07:32:40.150859Z"
    }
   },
   "outputs": [],
   "source": [
    "pred3 = model3.predict(data.YearsExperience)"
   ]
  },
  {
   "cell_type": "code",
   "execution_count": null,
   "id": "508b9c08",
   "metadata": {
    "ExecuteTime": {
     "end_time": "2022-12-12T07:32:40.151859Z",
     "start_time": "2022-12-12T07:32:40.151859Z"
    }
   },
   "outputs": [],
   "source": [
    "pred3"
   ]
  },
  {
   "cell_type": "code",
   "execution_count": null,
   "id": "66142ae9",
   "metadata": {
    "ExecuteTime": {
     "end_time": "2022-12-12T07:32:40.153859Z",
     "start_time": "2022-12-12T07:32:40.153859Z"
    }
   },
   "outputs": [],
   "source": [
    "model3.resid  "
   ]
  },
  {
   "cell_type": "code",
   "execution_count": null,
   "id": "6a845116",
   "metadata": {
    "ExecuteTime": {
     "end_time": "2022-12-12T07:32:40.154859Z",
     "start_time": "2022-12-12T07:32:40.154859Z"
    }
   },
   "outputs": [],
   "source": [
    "rmse_log = np.sqrt(np.mean((np.array(data['YearsExperience'])-np.array(pred3))**2))\n",
    "rmse_log"
   ]
  },
  {
   "cell_type": "code",
   "execution_count": null,
   "id": "b1faa557",
   "metadata": {
    "ExecuteTime": {
     "end_time": "2022-12-12T07:32:40.155859Z",
     "start_time": "2022-12-12T07:32:40.155859Z"
    }
   },
   "outputs": [],
   "source": [
    "pred3.corr(data.Salary)"
   ]
  },
  {
   "cell_type": "code",
   "execution_count": null,
   "id": "939c47ae",
   "metadata": {
    "ExecuteTime": {
     "end_time": "2022-12-12T07:32:40.156859Z",
     "start_time": "2022-12-12T07:32:40.156859Z"
    }
   },
   "outputs": [],
   "source": [
    "plt.scatter(x=data['YearsExperience'],y=data['Salary'],color='purple')\n",
    "plt.plot(data['YearsExperience'],pred3,color='orange')\n",
    "plt.xlabel('YearsExperience')\n",
    "plt.ylabel('Salary') "
   ]
  },
  {
   "cell_type": "code",
   "execution_count": null,
   "id": "b7979bfa",
   "metadata": {
    "ExecuteTime": {
     "end_time": "2022-12-12T07:32:40.157859Z",
     "start_time": "2022-12-12T07:32:40.157859Z"
    }
   },
   "outputs": [],
   "source": [
    "model3.summary()"
   ]
  },
  {
   "cell_type": "code",
   "execution_count": null,
   "id": "f39e483e",
   "metadata": {},
   "outputs": [],
   "source": []
  }
 ],
 "metadata": {
  "kernelspec": {
   "display_name": "Python 3 (ipykernel)",
   "language": "python",
   "name": "python3"
  },
  "language_info": {
   "codemirror_mode": {
    "name": "ipython",
    "version": 3
   },
   "file_extension": ".py",
   "mimetype": "text/x-python",
   "name": "python",
   "nbconvert_exporter": "python",
   "pygments_lexer": "ipython3",
   "version": "3.9.12"
  }
 },
 "nbformat": 4,
 "nbformat_minor": 5
}
